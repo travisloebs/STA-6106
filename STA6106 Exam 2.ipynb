{
 "cells": [
  {
   "cell_type": "markdown",
   "metadata": {},
   "source": [
    "# Exam II\n",
    "## Travis Loebs\n",
    "## November 10, 2016\n",
    "\n",
    "** Problem 1 **\n",
    "\n",
    "1\\. The bootstrap estimate for the median can be obtained from the sample data using the Python language. First, we will import the necessary libraries for scientific computing and data visualization."
   ]
  },
  {
   "cell_type": "code",
   "execution_count": 48,
   "metadata": {
    "collapsed": false,
    "scrolled": false
   },
   "outputs": [],
   "source": [
    "%matplotlib notebook\n",
    "%matplotlib inline\n",
    "import numpy as np\n",
    "import matplotlib.pyplot as plt"
   ]
  },
  {
   "cell_type": "markdown",
   "metadata": {},
   "source": [
    "Now we can begin the bootstrap procedure. Let $\\tilde{x} = {(x_1, x_2, \\dots, x_n)}^T$ be a tandom sample from $F$, where $F(x) = P(X \\leq x)$. Define $\\theta = t(F)$ as our target parameter, the median, of the distribution, and $\\hat{\\theta} = S(\\tilde{x})$ as an estimator for $\\theta$. Then we can draw $B$ samples of size $n$ from $\\tilde{x}$, which plays the role of population, and use these $B$ samples to compute $\\tilde{\\theta}^* = S(\\tilde{x}^*)$, which is the bootstrap replication for $\\theta$. The sampling distribution of $\\hat{\\theta}$ is then estimated by it's bootstrap equivalent. \n",
    "\n",
    "\n",
    "This is implemented in the following code. First, we load the data set into an array (mimicking a vector), and define $n$ as the number of elements in that vector. "
   ]
  },
  {
   "cell_type": "code",
   "execution_count": 49,
   "metadata": {
    "collapsed": false
   },
   "outputs": [],
   "source": [
    "data = np.loadtxt(\"/Users/AnaczLoebs/Documents/ATOM/STA6106/Exam2_pb1.txt\")\n",
    "n = np.size(data)"
   ]
  },
  {
   "cell_type": "markdown",
   "metadata": {},
   "source": [
    "Then we define $B$ as 100,000, meaning we will draw 100,000 independent bootstrap samples. For efficiency, before we begin the bootstrap algorithm we create a $B \\times 1$ null matrix named 'boot_est' that will be used to store $\\hat{\\theta}^*$ for each sample. The bootstrap samples are then drawn by generating $n$ random integers, with replacement, from the numbers between 1 and $n$. These integers are stored in a variable labeled 'i'. Then we directly compute $\\hat{\\theta}^*$ as the median of the bootstrap sample. This is done by using 'np.median(data[i])', where 'data[i]' $= \\tilde{x}^*_i = {(x^*_{i_1}, x^*_{i_2}, \\dots, x^*_{i_n})}^T$ is the $i^{th}$ bootstrap sample."
   ]
  },
  {
   "cell_type": "code",
   "execution_count": 50,
   "metadata": {
    "collapsed": false
   },
   "outputs": [],
   "source": [
    "B = 100000\n",
    "boot_est = np.zeros((B, 1))\n",
    "for b in range(1,B):\n",
    "    i = np.random.randint(n, size=n)\n",
    "    boot_est[b-1] = np.median(data[i])"
   ]
  },
  {
   "cell_type": "markdown",
   "metadata": {},
   "source": [
    "We can view the histogram of our 100,000 estimates of $\\hat{\\theta}^*$."
   ]
  },
  {
   "cell_type": "code",
   "execution_count": 51,
   "metadata": {
    "collapsed": false
   },
   "outputs": [
    {
     "data": {
      "image/png": "[encoded data removed]",
      "text/plain": [
       "<matplotlib.figure.Figure at 0x10d7d5588>"
      ]
     },
     "metadata": {},
     "output_type": "display_data"
    }
   ],
   "source": [
    "plt.hist(boot_est[:],20)\n",
    "plt.xlabel('Median of boostrap sample')\n",
    "plt.ylabel('Frequency')\n",
    "plt.title('Distribution of bootstrap estimates')\n",
    "plt.show()"
   ]
  },
  {
   "cell_type": "markdown",
   "metadata": {},
   "source": [
    "The bootstrap estimate of the bias of the median of the data is defined as \n",
    "\n",
    "$$bias(\\hat{\\theta}) = E[\\hat{\\theta}] - \\theta$$\n",
    "\n",
    "As learned in class, we can substitute the empirical distribution $\\hat{P}$ for $P$ to get the bootstrap estimate of the bias,\n",
    "\n",
    "$$\\hat{bias}(\\hat{\\theta}) = bias^* (\\hat{\\theta}^*) = {\\hat{\\theta}}^{*(\\cdot)} - \\theta^*$$\n",
    "\n",
    "Where $\\theta^* = t(\\hat{P})$ is the median of our 'population' data set, and\n",
    "\n",
    "$${\\hat{\\theta}}^{*(\\cdot)} = \\frac{1}{B} \\sum_{b=1}^B {\\hat{\\theta}}^{* (b)}$$\n",
    "\n",
    "This is implemented below."
   ]
  },
  {
   "cell_type": "code",
   "execution_count": 52,
   "metadata": {
    "collapsed": false
   },
   "outputs": [
    {
     "name": "stdout",
     "output_type": "stream",
     "text": [
      "The mean of theta is 340.173190\n",
      "The bootstrap estimate of the bias of our theta estimate is 8.673190\n"
     ]
    }
   ],
   "source": [
    "theta_mean = np.mean(sample)\n",
    "print(\"The mean of theta is %f\" % theta_mean)\n",
    "boot_bias = theta_mean - np.median(data)\n",
    "print(\"The bootstrap estimate of the bias of our theta estimate is %f\" % boot_bias)"
   ]
  },
  {
   "cell_type": "markdown",
   "metadata": {},
   "source": [
    "The standard error of $\\hat{\\theta}$ is estimated by computing the standard deviation of our $B$ bootstrap replicates. Our bootstrap replicates are defined as\n",
    "\n",
    "$$\\hat{\\theta}^{*(b)} = S(x^{*(b)}), \\; b = 1, \\dots, B$$\n",
    "\n",
    "The standard error is computed with the formula\n",
    "\n",
    "$$\\hat{se}_{boot} (\\hat{\\theta}) = \\bigg[ \\frac{1}{B-1} \\sum_{b=1}^B \\big( \\hat{\\theta}^{*(b)} - \\hat{\\theta}^{*(\\cdot)} {\\big)}^2 {\\bigg]}^{1/2}$$\n",
    "\n",
    "Where $\\hat{\\theta}^{*(\\cdot)} = \\frac{1}{B} \\sum_{b=1}^B \\hat{\\theta}^{*(b)}$\n",
    "\n",
    "This is implemented in the following code using the matrix dot product to compute the sum of squares. That is, define $A$ as a $B \\times 1$ matrix where the $i^{th}$ element is given by\n",
    "\n",
    "$$A_i = \\hat{\\theta}^{*(i)} - \\hat{\\theta}^{*(\\cdot)}$$\n",
    "\n",
    "Then\n",
    "\n",
    "$$A^T A = \\sum_{b=1}^B {\\big( \\hat{\\theta}^{*(b)} - \\hat{\\theta}^{*(\\cdot)} \\big)}^2$$\n",
    "\n",
    "as required."
   ]
  },
  {
   "cell_type": "code",
   "execution_count": 53,
   "metadata": {
    "collapsed": false
   },
   "outputs": [
    {
     "name": "stdout",
     "output_type": "stream",
     "text": [
      "The bootstrap estimate of the standard error is 58.390689\n"
     ]
    }
   ],
   "source": [
    "stdError = np.sqrt(1. / (B - 1) * np.dot(np.transpose(sample - theta_mean), (sample - theta_mean)))\n",
    "print(\"The bootstrap estimate of the standard error is %f\" % stdError)"
   ]
  },
  {
   "cell_type": "markdown",
   "metadata": {},
   "source": [
    "\n",
    "\n",
    "2\\. We begin our Jackknife by forming $n$ sets of $n-1$ observations, leaving out each datum in turn."
   ]
  },
  {
   "cell_type": "code",
   "execution_count": 54,
   "metadata": {
    "collapsed": false
   },
   "outputs": [
    {
     "name": "stdout",
     "output_type": "stream",
     "text": [
      "[[ 157.  840.  840. ...,  840.  840.  840.]\n",
      " [ 145.  145.  157. ...,  157.  157.  157.]\n",
      " [  44.   44.   44. ...,  145.  145.  145.]\n",
      " ..., \n",
      " [  92.   92.   92. ...,  365.  365.  365.]\n",
      " [  82.   82.   82. ...,   82.   92.   92.]\n",
      " [ 220.  220.  220. ...,  220.  220.   82.]]\n"
     ]
    }
   ],
   "source": [
    "jack_data = np.zeros((n-1, n))\n",
    "for i in range(0, n):\n",
    "    jack_data[:, i] = data[np.arange(len(data))!=(i)]\n",
    "print(jack_data)"
   ]
  },
  {
   "cell_type": "markdown",
   "metadata": {},
   "source": [
    "We can then use these $n$ samples to estimate the bais and standard error of the mean of data. First we create an $n$-length array to store the mean of each sample and then fill it with the sample means."
   ]
  },
  {
   "cell_type": "code",
   "execution_count": 55,
   "metadata": {
    "collapsed": true
   },
   "outputs": [],
   "source": [
    "jack_mean = np.zeros((n,1))\n",
    "for i in range(0, n):\n",
    "    jack_mean[i] = np.mean(jack_data[:, i])"
   ]
  },
  {
   "cell_type": "markdown",
   "metadata": {},
   "source": [
    "We can compute the bias of the mean of the data by defining \n",
    "\n",
    "$$bias(\\hat{\\theta}) = E[\\hat{\\theta}] - \\theta$$\n",
    "\n",
    "Where $\\hat{\\theta}$ is the estimate for the mean of the data. The jackknife estimate of the bias is\n",
    "\n",
    "$${\\hat{bias}}_{jack}(\\hat{\\theta}) = (n-1) \\big( \\overline{\\hat{\\theta}{(\\cdot)}} - \\hat{\\theta} \\big)$$\n",
    "\n",
    "Where\n",
    "\n",
    "$$\\overline{\\hat{\\theta}{(\\cdot)}} = \\frac{1}{n} \\sum_{i=1}^n \\hat{\\theta}_{(i)}$$\n",
    "\n",
    "is the mean of the estimates where we left out one observation, and $\\hat{\\theta}$ is the estimate compute from the original sample. This is implemented below."
   ]
  },
  {
   "cell_type": "code",
   "execution_count": 56,
   "metadata": {
    "collapsed": false
   },
   "outputs": [
    {
     "name": "stdout",
     "output_type": "stream",
     "text": [
      "The Jackknife estimate of the bias of the mean of the data is 0.000000\n"
     ]
    }
   ],
   "source": [
    "jack_bias = (n - 1) * (np.mean(jack_mean) - np.mean(data))\n",
    "print(\"The Jackknife estimate of the bias of the mean of the data is %f\" % jack_bias)"
   ]
  },
  {
   "cell_type": "markdown",
   "metadata": {},
   "source": [
    "\n",
    "\n",
    "The Jackknife estimate for the standard error of the mean of the data set can be found by using\n",
    "\n",
    "$$\\hat{se}_{jack} = \\sqrt{ {\\frac{n-1}{n} \\sum_{i=1}^n \\Big( \\hat{\\theta}_{(i)} - \\overline{\\hat{\\theta}{(\\cdot)}} \\Big)}^2 }$$\n",
    "\n",
    "This is implemented below."
   ]
  },
  {
   "cell_type": "code",
   "execution_count": 57,
   "metadata": {
    "collapsed": false
   },
   "outputs": [
    {
     "data": {
      "text/plain": [
       "array([[ 50.79081714]])"
      ]
     },
     "execution_count": 57,
     "metadata": {},
     "output_type": "execute_result"
    }
   ],
   "source": [
    "se_jack = np.sqrt((n-1) / n * np.dot(np.transpose(jack_mean - np.mean(jack_mean)), (jack_mean - np.mean(jack_mean))))\n",
    "se_jack"
   ]
  },
  {
   "cell_type": "code",
   "execution_count": null,
   "metadata": {
    "collapsed": false
   },
   "outputs": [],
   "source": []
  },
  {
   "cell_type": "code",
   "execution_count": null,
   "metadata": {
    "collapsed": true
   },
   "outputs": [],
   "source": []
  }
 ],
 "metadata": {
  "anaconda-cloud": {},
  "kernelspec": {
   "display_name": "Python [Root]",
   "language": "python",
   "name": "Python [Root]"
  },
  "language_info": {
   "codemirror_mode": {
    "name": "ipython",
    "version": 3
   },
   "file_extension": ".py",
   "mimetype": "text/x-python",
   "name": "python",
   "nbconvert_exporter": "python",
   "pygments_lexer": "ipython3",
   "version": "3.5.2"
  }
 },
 "nbformat": 4,
 "nbformat_minor": 0
}
